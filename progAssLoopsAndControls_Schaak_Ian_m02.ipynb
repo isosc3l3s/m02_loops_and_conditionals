{
 "cells": [
  {
   "cell_type": "code",
   "execution_count": 1,
   "id": "0cf801bc",
   "metadata": {},
   "outputs": [
    {
     "name": "stdout",
     "output_type": "stream",
     "text": [
      "4.1\n"
     ]
    }
   ],
   "source": [
    "print(\"4.1\")"
   ]
  },
  {
   "cell_type": "code",
   "execution_count": 3,
   "id": "08c4203a",
   "metadata": {},
   "outputs": [
    {
     "name": "stdout",
     "output_type": "stream",
     "text": [
      "number selected is 7\n"
     ]
    }
   ],
   "source": [
    "secret = 7\n",
    "print(\"number selected is\", secret)"
   ]
  },
  {
   "cell_type": "code",
   "execution_count": 4,
   "id": "cb03e116",
   "metadata": {},
   "outputs": [
    {
     "name": "stdout",
     "output_type": "stream",
     "text": [
      "number guessed is 3\n"
     ]
    }
   ],
   "source": [
    "guess = 3\n",
    "print(\"number guessed is\", guess)"
   ]
  },
  {
   "cell_type": "code",
   "execution_count": 6,
   "id": "6bb78181",
   "metadata": {},
   "outputs": [
    {
     "name": "stdout",
     "output_type": "stream",
     "text": [
      "too low\n"
     ]
    }
   ],
   "source": [
    "if guess < secret:\n",
    "    print ('too low')\n",
    "if guess > secret:\n",
    "    print ('too high')\n",
    "if guess == secret:\n",
    "    print ('just')"
   ]
  },
  {
   "cell_type": "code",
   "execution_count": 7,
   "id": "1b7167dc",
   "metadata": {},
   "outputs": [
    {
     "name": "stdout",
     "output_type": "stream",
     "text": [
      "4.2\n"
     ]
    }
   ],
   "source": [
    "print (\"4.2\")"
   ]
  },
  {
   "cell_type": "code",
   "execution_count": 10,
   "id": "7e57443b",
   "metadata": {},
   "outputs": [
    {
     "name": "stdout",
     "output_type": "stream",
     "text": [
      "it is a cherry!\n"
     ]
    }
   ],
   "source": [
    "small = True\n",
    "green = False\n",
    "if small:\n",
    "    if green:\n",
    "        print(\"it is a pea!\")\n",
    "    else:\n",
    "        print(\"it is a cherry!\")\n",
    "else:\n",
    "    if green:\n",
    "        print(\"it is a watermelon!\")\n",
    "    else:\n",
    "        print(\"it is a pumpkin!\")"
   ]
  },
  {
   "cell_type": "code",
   "execution_count": 11,
   "id": "b990fbf6",
   "metadata": {},
   "outputs": [
    {
     "name": "stdout",
     "output_type": "stream",
     "text": [
      "6.1\n"
     ]
    }
   ],
   "source": [
    "print(\"6.1\")"
   ]
  },
  {
   "cell_type": "code",
   "execution_count": 14,
   "id": "3052d874",
   "metadata": {},
   "outputs": [
    {
     "name": "stdout",
     "output_type": "stream",
     "text": [
      "0\n",
      "1\n",
      "2\n",
      "3\n"
     ]
    }
   ],
   "source": [
    "idex = 0\n",
    "numList = [3, 2, 1, 0]\n",
    "for idex in numList:\n",
    "    print (numList[idex])\n",
    "    idex= idex+1\n"
   ]
  },
  {
   "cell_type": "code",
   "execution_count": 15,
   "id": "17a59c37",
   "metadata": {},
   "outputs": [
    {
     "name": "stdout",
     "output_type": "stream",
     "text": [
      "6.2\n"
     ]
    }
   ],
   "source": [
    "print(\"6.2\")"
   ]
  },
  {
   "cell_type": "code",
   "execution_count": 20,
   "id": "dea46248",
   "metadata": {},
   "outputs": [
    {
     "name": "stdout",
     "output_type": "stream",
     "text": [
      "oops, to high at 15\n",
      "oops, to high at 14\n",
      "oops, to high at 13\n",
      "oops, to high at 12\n",
      "oops, to high at 11\n",
      "oops, to high at 10\n",
      "oops, to high at 9\n",
      "oops, to high at 8\n",
      "found it! at 7\n"
     ]
    }
   ],
   "source": [
    "guess_me = 7\n",
    "number = 15\n",
    "\n",
    "while number != guess_me:\n",
    "    if number < guess_me:\n",
    "        print(\"too low! at\",number)\n",
    "        number = number+1\n",
    "    if number > guess_me:\n",
    "        print(\"oops, to high at\",number)\n",
    "        number = number-1\n",
    "if number == guess_me:\n",
    "    print(\"found it! at\", number)"
   ]
  },
  {
   "cell_type": "code",
   "execution_count": 19,
   "id": "553c778a",
   "metadata": {},
   "outputs": [
    {
     "name": "stdout",
     "output_type": "stream",
     "text": [
      "6.3\n"
     ]
    }
   ],
   "source": [
    "print(\"6.3\")"
   ]
  },
  {
   "cell_type": "code",
   "execution_count": 22,
   "id": "568a0ee1",
   "metadata": {},
   "outputs": [
    {
     "name": "stdout",
     "output_type": "stream",
     "text": [
      "too low!\n",
      "too low!\n",
      "too low!\n",
      "too low!\n",
      "too low!\n",
      "found it!\n"
     ]
    }
   ],
   "source": [
    "guesss_me = 5\n",
    "for nummber in range(10):\n",
    "    if nummber < guesss_me:\n",
    "        print(\"too low!\")\n",
    "    if nummber > guesss_me:\n",
    "        print(\"oops!\")\n",
    "        break\n",
    "    if nummber == guesss_me:\n",
    "        print(\"found it!\")\n",
    "        break"
   ]
  },
  {
   "cell_type": "code",
   "execution_count": null,
   "id": "0266b278",
   "metadata": {},
   "outputs": [],
   "source": []
  }
 ],
 "metadata": {
  "kernelspec": {
   "display_name": "Python 3 (ipykernel)",
   "language": "python",
   "name": "python3"
  },
  "language_info": {
   "codemirror_mode": {
    "name": "ipython",
    "version": 3
   },
   "file_extension": ".py",
   "mimetype": "text/x-python",
   "name": "python",
   "nbconvert_exporter": "python",
   "pygments_lexer": "ipython3",
   "version": "3.9.12"
  }
 },
 "nbformat": 4,
 "nbformat_minor": 5
}
